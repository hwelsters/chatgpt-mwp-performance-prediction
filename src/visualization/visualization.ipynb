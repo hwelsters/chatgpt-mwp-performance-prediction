{
 "cells": [
  {
   "cell_type": "code",
   "execution_count": 2,
   "metadata": {},
   "outputs": [],
   "source": [
    "from bs4 import BeautifulSoup"
   ]
  },
  {
   "cell_type": "code",
   "execution_count": 11,
   "metadata": {},
   "outputs": [
    {
     "name": "stdout",
     "output_type": "stream",
     "text": [
      "[' 5 ', ' 5 < / equation>\\n 1 + 1 \\n 1 + 1 \\n', ' 1 + 1 ', ' 1 + 1 ']\n"
     ]
    }
   ],
   "source": [
    "def extract_equations(text: str, equation_tag : str):\n",
    "    soup = BeautifulSoup(text, \"html.parser\")\n",
    "    equations = soup.findAll(equation_tag)\n",
    "    equations = [equation.text for equation in equations]\n",
    "    print(equations)\n",
    "\n",
    "extract_equations(\"\"\"\n",
    "Random stuff that shouldn't be added <equation> 5 </equation>\n",
    "Random stuff that shouldn't be added <equation> 5 </equation>\n",
    "<equation> 1 + 1 </equation>\n",
    "<equation > 1 + 1 </equation>\n",
    "\"\"\", \"equation\")"
   ]
  }
 ],
 "metadata": {
  "kernelspec": {
   "display_name": "Python 3",
   "language": "python",
   "name": "python3"
  },
  "language_info": {
   "codemirror_mode": {
    "name": "ipython",
    "version": 3
   },
   "file_extension": ".py",
   "mimetype": "text/x-python",
   "name": "python",
   "nbconvert_exporter": "python",
   "pygments_lexer": "ipython3",
   "version": "3.7.9"
  },
  "orig_nbformat": 4
 },
 "nbformat": 4,
 "nbformat_minor": 2
}
