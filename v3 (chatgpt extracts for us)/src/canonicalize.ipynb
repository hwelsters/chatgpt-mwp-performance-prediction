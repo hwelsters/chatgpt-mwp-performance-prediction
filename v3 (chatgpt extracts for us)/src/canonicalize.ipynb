{
 "cells": [
  {
   "attachments": {},
   "cell_type": "markdown",
   "metadata": {},
   "source": [
    "### **Experiments in canonicalizing equations**"
   ]
  },
  {
   "cell_type": "code",
   "execution_count": 242,
   "metadata": {},
   "outputs": [],
   "source": [
    "import wordninja\n",
    "import re\n",
    "import nltk"
   ]
  },
  {
   "cell_type": "code",
   "execution_count": 243,
   "metadata": {},
   "outputs": [],
   "source": [
    "def group_terms(terms):\n",
    "    terms = terms.strip()\n",
    "    while len(terms) > 0 and (str(terms[0]).isnumeric() or terms[0] == '.'): terms = terms[1:]\n",
    "    if len(terms) == 0: return []\n",
    "    # if terms[0] == ' ': return []\n",
    "    \n",
    "    split_terms = wordninja.split(terms)\n",
    "    for term in split_terms: \n",
    "        if len(term) == 1: \n",
    "            return [a for a in terms]\n",
    "            while \"\" in split_terms: split_terms.remove(\"\")\n",
    "            return split_terms\n",
    "\n",
    "    return [terms]\n",
    "\n",
    "def canonicalize_equations(equations):\n",
    "    REPLACE_TOKEN = \"[%$#%$#]\"\n",
    "    MATH_SYMBOLS = \"+/-*=()\"\n",
    "    A_CODE = 97\n",
    "\n",
    "    variable_names = set()  \n",
    "\n",
    "    # Find all the variables names\n",
    "    for equation in equations:\n",
    "        for c in MATH_SYMBOLS: equation = equation.replace(c, REPLACE_TOKEN)\n",
    "        equation = equation.split(REPLACE_TOKEN)\n",
    "        for e in equation: variable_names = variable_names.union(set(group_terms(e)))\n",
    "\n",
    "    # Sort the variable names from longest to shortest\n",
    "    variable_names = list(variable_names)\n",
    "    variable_names = sorted(variable_names, key=len, reverse=True)\n",
    "    \n",
    "    variable_dict = dict()\n",
    "    index = 0\n",
    "    for var_name in variable_names:\n",
    "        variable_dict[var_name] = f\"[@!#@!#@!#!@#!@#@!#!@$#%$#^#^$%$#%$!#@#{index}]\"\n",
    "        index += 1\n",
    "\n",
    "    index = 0\n",
    "\n",
    "\n",
    "\n",
    "    middle_equations = []\n",
    "    for equation in equations:\n",
    "        for x, y in variable_dict.items():\n",
    "            equation = equation.replace(x, y)\n",
    "        equation = re.sub(r'[a-z]', '', equation)\n",
    "        middle_equations.append(equation)\n",
    "\n",
    "    canonicalized_equations = []\n",
    "    for equation in middle_equations:\n",
    "        for x, y in variable_dict.items():\n",
    "            num = re.findall(r'[0-9]+', y)[0]\n",
    "            num = int(num)\n",
    "            char = chr(num + A_CODE)\n",
    "            equation = equation.replace(y, char)\n",
    "        canonicalized_equations.append(equation.strip())\n",
    "\n",
    "    # display(\"RUN\")\n",
    "    # display(variable_names)\n",
    "    # display(middle_equations)\n",
    "    return canonicalized_equations"
   ]
  },
  {
   "cell_type": "code",
   "execution_count": 244,
   "metadata": {},
   "outputs": [
    {
     "data": {
      "text/plain": [
       "['b = 2a + 4',\n",
       " 'b + a = 25',\n",
       " '2a + 4 + a = 25',\n",
       " '3a + 4 = 25',\n",
       " '3a = 21',\n",
       " 'a = 7',\n",
       " 'b = 2(7) + 4',\n",
       " 'b = 18']"
      ]
     },
     "metadata": {},
     "output_type": "display_data"
    },
    {
     "data": {
      "text/plain": [
       "['0.04a + 0.065(5000 - a) = 282.50',\n",
       " '0.04a + 325 - 0.065a = 282.50',\n",
       " '-0.025a = -42.50',\n",
       " 'a = 1700']"
      ]
     },
     "metadata": {},
     "output_type": "display_data"
    },
    {
     "data": {
      "text/plain": [
       "['a = 5b', 'a   = 2cedf']"
      ]
     },
     "metadata": {},
     "output_type": "display_data"
    }
   ],
   "source": [
    "display(canonicalize_equations([\"x = 2y + 4\", \"x + y = 25\", \"2y + 4 + y = 25\", \"3y + 4 = 25\", \"3y = 21\", \"y = 7\", \"x = 2(7) + 4\", \"x = 18\"]))\n",
    "display(canonicalize_equations([\"0.04x + 0.065(5000 - x) = 282.50\", \"0.04x + 325 - 0.065x = 282.50\", \"-0.025x = -42.50\", \"x = 1700\"]))\n",
    "display(canonicalize_equations([\"distance upstream to there = 5 miles per hour\", \"distance upstream to there   = 2abcd\"]))\n"
   ]
  },
  {
   "cell_type": "code",
   "execution_count": 245,
   "metadata": {},
   "outputs": [
    {
     "data": {
      "text/plain": [
       "[('distance', 'NN')]"
      ]
     },
     "metadata": {},
     "output_type": "display_data"
    },
    {
     "data": {
      "text/plain": [
       "[('miles', 'NNS')]"
      ]
     },
     "metadata": {},
     "output_type": "display_data"
    },
    {
     "data": {
      "text/plain": [
       "[('per', 'IN')]"
      ]
     },
     "metadata": {},
     "output_type": "display_data"
    },
    {
     "data": {
      "text/plain": [
       "[('hours', 'NNS')]"
      ]
     },
     "metadata": {},
     "output_type": "display_data"
    }
   ],
   "source": [
    "display(nltk.pos_tag(['distance']))\n",
    "display(nltk.pos_tag(['miles']))\n",
    "display(nltk.pos_tag(['per']))\n",
    "display(nltk.pos_tag(['hours']))"
   ]
  }
 ],
 "metadata": {
  "kernelspec": {
   "display_name": "Python 3",
   "language": "python",
   "name": "python3"
  },
  "language_info": {
   "codemirror_mode": {
    "name": "ipython",
    "version": 3
   },
   "file_extension": ".py",
   "mimetype": "text/x-python",
   "name": "python",
   "nbconvert_exporter": "python",
   "pygments_lexer": "ipython3",
   "version": "3.7.9"
  },
  "orig_nbformat": 4
 },
 "nbformat": 4,
 "nbformat_minor": 2
}
